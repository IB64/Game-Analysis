{
 "cells": [
  {
   "cell_type": "code",
   "execution_count": 8,
   "id": "f1399fc2",
   "metadata": {},
   "outputs": [
    {
     "name": "stdout",
     "output_type": "stream",
     "text": [
      "{'response': {'game_count': 64, 'games': [{'appid': 105600, 'name': 'Terraria', 'playtime_forever': 34, 'img_icon_url': '858961e95fbf869f136e1770d586e0caefd4cfac', 'has_community_visible_stats': True, 'playtime_windows_forever': 34, 'playtime_mac_forever': 0, 'playtime_linux_forever': 0, 'playtime_deck_forever': 0, 'rtime_last_played': 1622206733, 'playtime_disconnected': 0}, {'appid': 218680, 'name': 'Scribblenauts Unlimited', 'playtime_forever': 90, 'img_icon_url': 'e933a9993b7d0b905dbb37636a97339a2c277e0f', 'has_community_visible_stats': True, 'playtime_windows_forever': 90, 'playtime_mac_forever': 0, 'playtime_linux_forever': 0, 'playtime_deck_forever': 0, 'rtime_last_played': 1579906810, 'playtime_disconnected': 0}, {'appid': 219340, 'name': 'The Banner Saga: Factions', 'playtime_forever': 11, 'img_icon_url': '872ef52af19062eb36380668f6a26a15fc8d5853', 'has_community_visible_stats': True, 'playtime_windows_forever': 0, 'playtime_mac_forever': 0, 'playtime_linux_forever': 0, 'playtime_deck_forever': 0, 'rtime_last_played': 1498609609, 'has_leaderboards': True, 'playtime_disconnected': 0}, {'appid': 230410, 'name': 'Warframe', 'playtime_forever': 293, 'img_icon_url': '22064646470f4c53388ba87774c7ac10f0a91ffa', 'has_community_visible_stats': True, 'playtime_windows_forever': 293, 'playtime_mac_forever': 0, 'playtime_linux_forever': 0, 'playtime_deck_forever': 0, 'rtime_last_played': 1697152236, 'content_descriptorids': [2, 5], 'playtime_disconnected': 0}, {'appid': 238960, 'name': 'Path of Exile', 'playtime_forever': 29, 'img_icon_url': '1110764aac57ac28d7ffd8c43071c75d5482a9c9', 'has_community_visible_stats': True, 'playtime_windows_forever': 0, 'playtime_mac_forever': 0, 'playtime_linux_forever': 0, 'playtime_deck_forever': 0, 'rtime_last_played': 1436557380, 'content_descriptorids': [1, 2, 5], 'playtime_disconnected': 0}, {'appid': 258700, 'name': 'Dragon Nest Europe', 'playtime_forever': 1227, 'img_icon_url': 'aeed6c13cee592defbc0faa9d570e69c1dfe33ce', 'playtime_windows_forever': 0, 'playtime_mac_forever': 0, 'playtime_linux_forever': 0, 'playtime_deck_forever': 0, 'rtime_last_played': 1436044710, 'playtime_disconnected': 0}, {'appid': 248570, 'name': 'Toribash', 'playtime_forever': 555, 'img_icon_url': '7642e8aaf8d97a5fca68d749ed5cdd548cbb6d35', 'has_community_visible_stats': True, 'playtime_windows_forever': 0, 'playtime_mac_forever': 0, 'playtime_linux_forever': 0, 'playtime_deck_forever': 0, 'rtime_last_played': 1460587471, 'playtime_disconnected': 0}, {'appid': 216150, 'name': 'MapleStory', 'playtime_forever': 17040, 'img_icon_url': '263753195620210c0947ff3be2cb6b8d835bca23', 'has_community_visible_stats': True, 'playtime_windows_forever': 17040, 'playtime_mac_forever': 0, 'playtime_linux_forever': 0, 'playtime_deck_forever': 0, 'rtime_last_played': 1658160791, 'playtime_disconnected': 0}, {'appid': 242760, 'name': 'The Forest', 'playtime_forever': 806, 'img_icon_url': '3a6847f6ac5879e48531db52261771d5e22904ac', 'has_community_visible_stats': True, 'playtime_windows_forever': 806, 'playtime_mac_forever': 0, 'playtime_linux_forever': 0, 'playtime_deck_forever': 0, 'rtime_last_played': 1662591596, 'content_descriptorids': [2, 5], 'playtime_disconnected': 0}, {'appid': 239820, 'name': 'Game Dev Tycoon', 'playtime_forever': 356, 'img_icon_url': 'f63ee73113b0880922a84e8d6af0d222fef91c40', 'has_community_visible_stats': True, 'playtime_windows_forever': 356, 'playtime_mac_forever': 0, 'playtime_linux_forever': 0, 'playtime_deck_forever': 0, 'rtime_last_played': 1607123322, 'playtime_disconnected': 0}, {'appid': 269210, 'name': 'Hero Siege', 'playtime_forever': 25, 'img_icon_url': 'c787f8aa68ebb1426c5a9633b7609d7e849c1bc2', 'has_community_visible_stats': True, 'playtime_windows_forever': 0, 'playtime_mac_forever': 0, 'playtime_linux_forever': 0, 'playtime_deck_forever': 0, 'rtime_last_played': 1435342532, 'playtime_disconnected': 0}, {'appid': 271590, 'name': 'Grand Theft Auto V', 'playtime_forever': 17, 'img_icon_url': '1e72f87eb927fa1485e68aefaff23c7fd7178251', 'has_community_visible_stats': True, 'playtime_windows_forever': 17, 'playtime_mac_forever': 0, 'playtime_linux_forever': 0, 'playtime_deck_forever': 0, 'rtime_last_played': 1693672331, 'content_descriptorids': [5], 'playtime_disconnected': 0}, {'appid': 311690, 'name': 'Enter the Gungeon', 'playtime_forever': 20, 'img_icon_url': 'b459d94ad4b6a5eabd71005874037b9577a4ca31', 'has_community_visible_stats': True, 'playtime_windows_forever': 20, 'playtime_mac_forever': 0, 'playtime_linux_forever': 0, 'playtime_deck_forever': 0, 'rtime_last_played': 1607355802, 'playtime_disconnected': 0}, {'appid': 215080, 'name': 'WAKFU', 'playtime_forever': 7705, 'img_icon_url': 'a487f15efed56e91334a422375eeb26d57f4c8e0', 'has_community_visible_stats': True, 'playtime_windows_forever': 0, 'playtime_mac_forever': 0, 'playtime_linux_forever': 0, 'playtime_deck_forever': 0, 'rtime_last_played': 1496238156, 'playtime_disconnected': 0}, {'appid': 268420, 'name': 'Aura Kingdom', 'playtime_forever': 402, 'img_icon_url': 'a437c523f796bbe6d34625bdc2aafb5018fd2f34', 'playtime_windows_forever': 0, 'playtime_mac_forever': 0, 'playtime_linux_forever': 0, 'playtime_deck_forever': 0, 'rtime_last_played': 1436802001, 'playtime_disconnected': 0}, {'appid': 730, 'name': 'Counter-Strike 2', 'playtime_forever': 4265, 'img_icon_url': '8dbc71957312bbd3baea65848b545be9eae2a355', 'has_community_visible_stats': True, 'playtime_windows_forever': 4265, 'playtime_mac_forever': 0, 'playtime_linux_forever': 0, 'playtime_deck_forever': 0, 'rtime_last_played': 1696636367, 'content_descriptorids': [2, 5], 'playtime_disconnected': 0}, {'appid': 346110, 'name': 'ARK: Survival Evolved', 'playtime_forever': 98, 'img_icon_url': 'fef1799533131c10f538d2dd697bbbd89e663265', 'has_community_visible_stats': True, 'playtime_windows_forever': 0, 'playtime_mac_forever': 0, 'playtime_linux_forever': 0, 'playtime_deck_forever': 0, 'rtime_last_played': 1441281687, 'playtime_disconnected': 0}, {'appid': 407530, 'name': 'ARK: Survival Of The Fittest', 'playtime_forever': 0, 'img_icon_url': '807c673cddebbfee0700a947a75f4872ad136e9b', 'playtime_windows_forever': 0, 'playtime_mac_forever': 0, 'playtime_linux_forever': 0, 'playtime_deck_forever': 0, 'rtime_last_played': 0, 'playtime_disconnected': 0}, {'appid': 365670, 'name': 'Blender', 'playtime_forever': 0, 'img_icon_url': '48733cd333eea6e40711a1b9c6dde32ffe363ced', 'playtime_windows_forever': 0, 'playtime_mac_forever': 0, 'playtime_linux_forever': 0, 'playtime_deck_forever': 0, 'rtime_last_played': 0, 'playtime_disconnected': 0}, {'appid': 367500, 'name': \"Dragon's Dogma: Dark Arisen\", 'playtime_forever': 90, 'img_icon_url': 'c21a873b4d4ccd64e582e733c9f319fbb4d7899e', 'has_community_visible_stats': True, 'playtime_windows_forever': 90, 'playtime_mac_forever': 0, 'playtime_linux_forever': 0, 'playtime_deck_forever': 0, 'rtime_last_played': 1698603532, 'playtime_disconnected': 0}, {'appid': 322330, 'name': \"Don't Starve Together\", 'playtime_forever': 2634, 'img_icon_url': 'a80aa6cff8eebc1cbc18c367d9ab063e1553b0ee', 'playtime_windows_forever': 944, 'playtime_mac_forever': 0, 'playtime_linux_forever': 0, 'playtime_deck_forever': 0, 'rtime_last_played': 1625853144, 'playtime_disconnected': 0}, {'appid': 261570, 'name': 'Ori and the Blind Forest', 'playtime_forever': 0, 'img_icon_url': 'a8b0c1ca89fa421e5061d4ac5c17e2fbf4f08845', 'has_community_visible_stats': True, 'playtime_windows_forever': 0, 'playtime_mac_forever': 0, 'playtime_linux_forever': 0, 'playtime_deck_forever': 0, 'rtime_last_played': 0, 'playtime_disconnected': 0}, {'appid': 387290, 'name': 'Ori and the Blind Forest: Definitive Edition', 'playtime_forever': 37, 'img_icon_url': 'a8b0c1ca89fa421e5061d4ac5c17e2fbf4f08845', 'has_community_visible_stats': True, 'playtime_windows_forever': 37, 'playtime_mac_forever': 0, 'playtime_linux_forever': 0, 'playtime_deck_forever': 0, 'rtime_last_played': 1668595205, 'playtime_disconnected': 0}, {'appid': 291550, 'name': 'Brawlhalla', 'playtime_forever': 36, 'img_icon_url': 'c43fac31b8bf8821764603a14d09412bc3d45f66', 'has_community_visible_stats': True, 'playtime_windows_forever': 0, 'playtime_mac_forever': 0, 'playtime_linux_forever': 0, 'playtime_deck_forever': 0, 'rtime_last_played': 1449005518, 'playtime_disconnected': 0}, {'appid': 413150, 'name': 'Stardew Valley', 'playtime_forever': 3944, 'img_icon_url': '35d1377200084a4034238c05b0c8930451e2fb40', 'has_community_visible_stats': True, 'playtime_windows_forever': 3944, 'playtime_mac_forever': 0, 'playtime_linux_forever': 0, 'playtime_deck_forever': 0, 'rtime_last_played': 1679279065, 'playtime_disconnected': 0}, {'appid': 359550, 'name': \"Tom Clancy's Rainbow Six Siege\", 'playtime_forever': 10283, 'img_icon_url': '624745d333ac54aedb1ee911013e2edb7722550e', 'playtime_windows_forever': 10283, 'playtime_mac_forever': 0, 'playtime_linux_forever': 0, 'playtime_deck_forever': 0, 'rtime_last_played': 1683071861, 'playtime_disconnected': 0}, {'appid': 623990, 'name': \"Tom Clancy's Rainbow Six Siege - Test Server\", 'playtime_forever': 0, 'img_icon_url': '20deaf466474f76f2ffdb345fe56f40fe3af74c0', 'playtime_windows_forever': 0, 'playtime_mac_forever': 0, 'playtime_linux_forever': 0, 'playtime_deck_forever': 0, 'rtime_last_played': 0, 'playtime_disconnected': 0}, {'appid': 431960, 'name': 'Wallpaper Engine', 'playtime_forever': 125, 'img_icon_url': '72edaed9d748c6cf7397ffb1c83f0b837b9ebd9d', 'has_community_visible_stats': True, 'playtime_windows_forever': 125, 'playtime_mac_forever': 0, 'playtime_linux_forever': 0, 'playtime_deck_forever': 0, 'rtime_last_played': 1681811506, 'playtime_disconnected': 0}, {'appid': 433340, 'name': 'Slime Rancher', 'playtime_forever': 0, 'img_icon_url': '814236b2c3a100cf76b00390585f351708e4c1e4', 'has_community_visible_stats': True, 'playtime_windows_forever': 0, 'playtime_mac_forever': 0, 'playtime_linux_forever': 0, 'playtime_deck_forever': 0, 'rtime_last_played': 0, 'playtime_disconnected': 0}, {'appid': 444090, 'name': 'Paladins', 'playtime_forever': 95, 'img_icon_url': '1565119c17f532338a0645b98e69e1fc1df0c29e', 'has_community_visible_stats': True, 'playtime_windows_forever': 95, 'playtime_mac_forever': 0, 'playtime_linux_forever': 0, 'playtime_deck_forever': 0, 'rtime_last_played': 1699315730, 'playtime_disconnected': 0}, {'appid': 596350, 'name': 'Paladins - Public Test', 'playtime_forever': 0, 'img_icon_url': '0a073dec4ffe8398b74369289d0c987134e35986', 'playtime_windows_forever': 0, 'playtime_mac_forever': 0, 'playtime_linux_forever': 0, 'playtime_deck_forever': 0, 'rtime_last_played': 0, 'playtime_disconnected': 0}, {'appid': 504230, 'name': 'Celeste', 'playtime_forever': 945, 'img_icon_url': '04cb7aa0b497a3962e6b1655b7fd81a2cc95d18b', 'has_community_visible_stats': True, 'playtime_windows_forever': 945, 'playtime_mac_forever': 0, 'playtime_linux_forever': 0, 'playtime_deck_forever': 0, 'rtime_last_played': 1615230131, 'playtime_disconnected': 0}, {'appid': 319630, 'name': 'Life is Strange™', 'playtime_forever': 0, 'img_icon_url': 'e54b13da0710a35e7088664a77632e79157d8332', 'has_community_visible_stats': True, 'playtime_windows_forever': 0, 'playtime_mac_forever': 0, 'playtime_linux_forever': 0, 'playtime_deck_forever': 0, 'rtime_last_played': 0, 'playtime_disconnected': 0}, {'appid': 593280, 'name': 'Cat Quest', 'playtime_forever': 204, 'img_icon_url': '8cdb631e4334e79e61f33e0c1d37d26507f06712', 'has_community_visible_stats': True, 'playtime_windows_forever': 204, 'playtime_mac_forever': 0, 'playtime_linux_forever': 0, 'playtime_deck_forever': 0, 'rtime_last_played': 1618344819, 'playtime_disconnected': 0}, {'appid': 632360, 'name': 'Risk of Rain 2', 'playtime_forever': 883, 'img_icon_url': '0b809ac6f25e6570fecae5fc47bca0139a7bf70c', 'has_community_visible_stats': True, 'playtime_windows_forever': 883, 'playtime_mac_forever': 0, 'playtime_linux_forever': 0, 'playtime_deck_forever': 0, 'rtime_last_played': 1622135251, 'playtime_disconnected': 0}, {'appid': 204300, 'name': 'Awesomenauts', 'playtime_forever': 18, 'img_icon_url': '4996933171d0804bd0ceb7b9a0e224b3139d18ba', 'has_community_visible_stats': True, 'playtime_windows_forever': 0, 'playtime_mac_forever': 0, 'playtime_linux_forever': 0, 'playtime_deck_forever': 0, 'rtime_last_played': 1495726181, 'playtime_disconnected': 0}, {'appid': 736260, 'name': 'Baba Is You', 'playtime_forever': 205, 'img_icon_url': '9b9e1838838c21ee443359efe30b6a56cf0531dd', 'has_community_visible_stats': True, 'playtime_windows_forever': 205, 'playtime_mac_forever': 0, 'playtime_linux_forever': 0, 'playtime_deck_forever': 0, 'rtime_last_played': 1619120750, 'playtime_disconnected': 0}, {'appid': 858210, 'name': 'Nova Drift', 'playtime_forever': 1265, 'img_icon_url': '5b679343f9b0c0f19bb50843c225ceb44f2e604f', 'has_community_visible_stats': True, 'playtime_windows_forever': 1265, 'playtime_mac_forever': 0, 'playtime_linux_forever': 0, 'playtime_deck_forever': 0, 'rtime_last_played': 1598205954, 'has_leaderboards': True, 'playtime_disconnected': 0}, {'appid': 714010, 'name': 'Aimlabs', 'playtime_forever': 5560, 'img_icon_url': '15347de11efc127539c388e585af9e92d10d5189', 'has_community_visible_stats': True, 'playtime_windows_forever': 5560, 'playtime_mac_forever': 0, 'playtime_linux_forever': 0, 'playtime_deck_forever': 0, 'rtime_last_played': 1696807460, 'has_leaderboards': True, 'playtime_disconnected': 0}, {'appid': 914710, 'name': 'Cat Quest II', 'playtime_forever': 286, 'img_icon_url': '832e55b54768c03e0b50f34d294e85af07efab66', 'has_community_visible_stats': True, 'playtime_windows_forever': 286, 'playtime_mac_forever': 0, 'playtime_linux_forever': 0, 'playtime_deck_forever': 0, 'rtime_last_played': 1617904315, 'playtime_disconnected': 0}, {'appid': 962580, 'name': 'Summer in Mara', 'playtime_forever': 8, 'img_icon_url': 'e04b8a76de0da6666e1366f07edbaec6669a3660', 'has_community_visible_stats': True, 'playtime_windows_forever': 8, 'playtime_mac_forever': 0, 'playtime_linux_forever': 0, 'playtime_deck_forever': 0, 'rtime_last_played': 1685360693, 'playtime_disconnected': 0}, {'appid': 1113000, 'name': 'Persona 4 Golden', 'playtime_forever': 829, 'img_icon_url': '295e86f2d5393325f38f33777b357d86e23c751d', 'has_community_visible_stats': True, 'playtime_windows_forever': 829, 'playtime_mac_forever': 0, 'playtime_linux_forever': 0, 'playtime_deck_forever': 0, 'rtime_last_played': 1625451020, 'content_descriptorids': [1, 2, 5], 'playtime_disconnected': 0}, {'appid': 1172470, 'name': 'Apex Legends', 'playtime_forever': 157, 'img_icon_url': '070902d2389878ac4bf29efb5b92832c60bdf24e', 'has_community_visible_stats': True, 'playtime_windows_forever': 157, 'playtime_mac_forever': 0, 'playtime_linux_forever': 0, 'playtime_deck_forever': 0, 'rtime_last_played': 1682034087, 'playtime_disconnected': 0}, {'appid': 1172620, 'name': 'Sea of Thieves', 'playtime_forever': 1010, 'img_icon_url': 'f95f362708fc326511c5d86566c447ee625bf776', 'has_community_visible_stats': True, 'playtime_windows_forever': 1010, 'playtime_mac_forever': 0, 'playtime_linux_forever': 0, 'playtime_deck_forever': 0, 'rtime_last_played': 1689806708, 'playtime_disconnected': 0}, {'appid': 1145360, 'name': 'Hades', 'playtime_forever': 2048, 'img_icon_url': '8a3fca36a00883e8066263ad35dd15d77a1f9abc', 'has_community_visible_stats': True, 'playtime_windows_forever': 2048, 'playtime_mac_forever': 0, 'playtime_linux_forever': 0, 'playtime_deck_forever': 0, 'rtime_last_played': 1608427961, 'playtime_disconnected': 0}, {'appid': 582010, 'name': 'Monster Hunter: World', 'playtime_forever': 305, 'img_icon_url': '6ec147f2d423f435e15eb79b3d82f771913de634', 'has_community_visible_stats': True, 'playtime_windows_forever': 305, 'playtime_mac_forever': 0, 'playtime_linux_forever': 0, 'playtime_deck_forever': 0, 'rtime_last_played': 1706819999, 'playtime_disconnected': 0}, {'appid': 1268110, 'name': 'ISEKAI QUEST', 'playtime_forever': 284, 'img_icon_url': '19258abb62ed85c92f1142715999a38d0ad22719', 'has_community_visible_stats': True, 'playtime_windows_forever': 284, 'playtime_mac_forever': 0, 'playtime_linux_forever': 0, 'playtime_deck_forever': 0, 'rtime_last_played': 1679067281, 'content_descriptorids': [1, 3, 4, 5], 'playtime_disconnected': 0}, {'appid': 1290000, 'name': 'PowerWash Simulator', 'playtime_forever': 608, 'img_icon_url': 'cdc9126e41c1968c52fb86b46f0391db1fa23420', 'has_community_visible_stats': True, 'playtime_windows_forever': 608, 'playtime_mac_forever': 0, 'playtime_linux_forever': 0, 'playtime_deck_forever': 0, 'rtime_last_played': 1710201489, 'playtime_disconnected': 0}, {'appid': 441380, 'name': 'PAC-MAN™ CHAMPIONSHIP EDITION 2', 'playtime_forever': 0, 'img_icon_url': '782fe2de0839f6898e2dc1d220f9ed229563a9d3', 'has_community_visible_stats': True, 'playtime_windows_forever': 0, 'playtime_mac_forever': 0, 'playtime_linux_forever': 0, 'playtime_deck_forever': 0, 'rtime_last_played': 0, 'playtime_disconnected': 0}, {'appid': 1304930, 'name': 'The Outlast Trials', 'playtime_forever': 1221, 'img_icon_url': '159a7d66ffd179c920eefe07392e6a261e899965', 'has_community_visible_stats': True, 'playtime_windows_forever': 1221, 'playtime_mac_forever': 0, 'playtime_linux_forever': 0, 'playtime_deck_forever': 0, 'rtime_last_played': 1698884486, 'content_descriptorids': [1, 2, 5], 'playtime_disconnected': 0}, {'appid': 1326470, 'name': 'Sons Of The Forest', 'playtime_forever': 837, 'img_icon_url': 'bd28fe592b339cff5a3eef743f31e3166c984c68', 'has_community_visible_stats': True, 'playtime_windows_forever': 837, 'playtime_mac_forever': 0, 'playtime_linux_forever': 0, 'playtime_deck_forever': 0, 'rtime_last_played': 1683588680, 'content_descriptorids': [1, 2, 5], 'playtime_disconnected': 0}, {'appid': 1587710, 'name': 'Fossil Corner', 'playtime_forever': 298, 'img_icon_url': 'd5ceb5a13d6fbcc88ffa24b12a43b7163ec77ba0', 'has_community_visible_stats': True, 'playtime_windows_forever': 298, 'playtime_mac_forever': 0, 'playtime_linux_forever': 0, 'playtime_deck_forever': 0, 'rtime_last_played': 1682595492, 'playtime_disconnected': 0}, {'appid': 1607680, 'name': 'Bread & Fred', 'playtime_forever': 30, 'img_icon_url': 'fcfff47466da4d40a2f1aa12fc941e2955f55038', 'has_community_visible_stats': True, 'playtime_windows_forever': 30, 'playtime_mac_forever': 0, 'playtime_linux_forever': 0, 'playtime_deck_forever': 0, 'rtime_last_played': 1685360162, 'playtime_disconnected': 0}, {'appid': 1687950, 'name': 'Persona 5 Royal', 'playtime_forever': 76, 'img_icon_url': '2f868d8c16fc357dc7122d440b9de3916e36e6fa', 'has_community_visible_stats': True, 'playtime_windows_forever': 76, 'playtime_mac_forever': 0, 'playtime_linux_forever': 0, 'playtime_deck_forever': 0, 'rtime_last_played': 1685357789, 'content_descriptorids': [1, 5], 'playtime_disconnected': 0}, {'appid': 1714040, 'name': 'Super Auto Pets', 'playtime_forever': 1633, 'img_icon_url': '741a65b9af8572a8bffe15fe50ca2e35479d1526', 'playtime_windows_forever': 1633, 'playtime_mac_forever': 0, 'playtime_linux_forever': 0, 'playtime_deck_forever': 0, 'rtime_last_played': 1644846262, 'playtime_disconnected': 0}, {'appid': 1240440, 'name': 'Halo Infinite', 'playtime_forever': 0, 'img_icon_url': 'ec684b943169d675439f6cdf64fa2f2aa90d9821', 'has_community_visible_stats': True, 'playtime_windows_forever': 0, 'playtime_mac_forever': 0, 'playtime_linux_forever': 0, 'playtime_deck_forever': 0, 'rtime_last_played': 0, 'playtime_disconnected': 0}, {'appid': 1850570, 'name': \"DEATH STRANDING DIRECTOR'S CUT\", 'playtime_forever': 2416, 'img_icon_url': 'dd1abd2566c95d1e89408570719657a663591f8f', 'has_community_visible_stats': True, 'playtime_windows_forever': 2416, 'playtime_mac_forever': 0, 'playtime_linux_forever': 0, 'playtime_deck_forever': 0, 'rtime_last_played': 1671883430, 'content_descriptorids': [5], 'playtime_disconnected': 0}, {'appid': 1446780, 'name': 'MONSTER HUNTER RISE', 'playtime_forever': 5914, 'img_icon_url': '560dd364b52075b783424961a43c01f9b69fde15', 'has_community_visible_stats': True, 'playtime_windows_forever': 5914, 'playtime_mac_forever': 0, 'playtime_linux_forever': 0, 'playtime_deck_forever': 0, 'rtime_last_played': 1690386208, 'playtime_disconnected': 0}, {'appid': 1961460, 'name': 'Project Playtime', 'playtime_forever': 0, 'img_icon_url': 'c443ac07bed8665c5bef29464351c3b236684759', 'playtime_windows_forever': 0, 'playtime_mac_forever': 0, 'playtime_linux_forever': 0, 'playtime_deck_forever': 0, 'rtime_last_played': 0, 'playtime_disconnected': 0}, {'appid': 1966720, 'name': 'Lethal Company', 'playtime_forever': 716, 'img_icon_url': '8393f321a62a9ef0be762c81565d2caea4fb7da6', 'playtime_windows_forever': 716, 'playtime_mac_forever': 0, 'playtime_linux_forever': 0, 'playtime_deck_forever': 0, 'rtime_last_played': 1709424901, 'content_descriptorids': [2, 5], 'playtime_disconnected': 0}, {'appid': 1987080, 'name': 'Inside the Backrooms', 'playtime_forever': 482, 'img_icon_url': '36c529359e0802af3589360e03ed781c366b5ae5', 'has_community_visible_stats': True, 'playtime_windows_forever': 482, 'playtime_mac_forever': 0, 'playtime_linux_forever': 0, 'playtime_deck_forever': 0, 'rtime_last_played': 1666132867, 'playtime_disconnected': 0}, {'appid': 2073850, 'name': 'THE FINALS', 'playtime_2weeks': 670, 'playtime_forever': 5768, 'img_icon_url': 'bff0b7e00b1c80a7f9fc7999a5a81d52a70c7b2d', 'has_community_visible_stats': True, 'playtime_windows_forever': 5768, 'playtime_mac_forever': 0, 'playtime_linux_forever': 0, 'playtime_deck_forever': 0, 'rtime_last_played': 1711067081, 'playtime_disconnected': 0}, {'appid': 1938090, 'name': 'Call of Duty®', 'playtime_forever': 1792, 'img_icon_url': '8eaf32220060344996cbf11f697a4f4be943e5f3', 'has_community_visible_stats': True, 'playtime_windows_forever': 1792, 'playtime_mac_forever': 0, 'playtime_linux_forever': 0, 'playtime_deck_forever': 0, 'rtime_last_played': 1701907109, 'content_descriptorids': [2, 5], 'playtime_disconnected': 29}, {'appid': 1364780, 'name': 'Street Fighter™ 6', 'playtime_forever': 1168, 'img_icon_url': '5e1421a150aaded0c7c175bc6f6843eab9a4d27d', 'has_community_visible_stats': True, 'playtime_windows_forever': 1168, 'playtime_mac_forever': 0, 'playtime_linux_forever': 0, 'playtime_deck_forever': 0, 'rtime_last_played': 1686741765, 'playtime_disconnected': 0}]}}\n"
     ]
    }
   ],
   "source": [
    "import requests\n",
    "\n",
    "# API endpoint URL\n",
    "url = \"https://api.steampowered.com/IPlayerService/GetOwnedGames/v0001/?key=29153E5BF623695E8F7FE6ECFD24A03C&steamid=76561198235391392&format=json&include_appinfo=true\"\n",
    "\n",
    "# Send GET request to the API endpoint\n",
    "response = requests.get(url)\n",
    "\n",
    "# Check if the request was successful (status code 200)\n",
    "if response.status_code == 200:\n",
    "    # Parse the JSON response\n",
    "    data = response.json()\n",
    "    \n",
    "    # Now you can work with the data\n",
    "    print(data)\n",
    "else:\n",
    "    # Print an error message if the request was unsuccessful\n",
    "    print(\"Error:\", response.status_code)"
   ]
  },
  {
   "cell_type": "code",
   "execution_count": 13,
   "id": "6a8a04f5",
   "metadata": {},
   "outputs": [],
   "source": [
    "pd.set_option('display.max_rows', 500)"
   ]
  },
  {
   "cell_type": "code",
   "execution_count": 14,
   "id": "7b95483f",
   "metadata": {},
   "outputs": [
    {
     "name": "stdout",
     "output_type": "stream",
     "text": [
      "      appid                                          name  playtime_forever\n",
      "0    105600                                      Terraria              0.57\n",
      "1    218680                       Scribblenauts Unlimited              1.50\n",
      "2    219340                     The Banner Saga: Factions              0.18\n",
      "3    230410                                      Warframe              4.88\n",
      "4    238960                                 Path of Exile              0.48\n",
      "5    258700                            Dragon Nest Europe             20.45\n",
      "6    248570                                      Toribash              9.25\n",
      "7    216150                                    MapleStory            284.00\n",
      "8    242760                                    The Forest             13.43\n",
      "9    239820                               Game Dev Tycoon              5.93\n",
      "10   269210                                    Hero Siege              0.42\n",
      "11   271590                            Grand Theft Auto V              0.28\n",
      "12   311690                             Enter the Gungeon              0.33\n",
      "13   215080                                         WAKFU            128.42\n",
      "14   268420                                  Aura Kingdom              6.70\n",
      "15      730                              Counter-Strike 2             71.08\n",
      "16   346110                         ARK: Survival Evolved              1.63\n",
      "17   407530                  ARK: Survival Of The Fittest              0.00\n",
      "18   365670                                       Blender              0.00\n",
      "19   367500                   Dragon's Dogma: Dark Arisen              1.50\n",
      "20   322330                         Don't Starve Together             43.90\n",
      "21   261570                      Ori and the Blind Forest              0.00\n",
      "22   387290  Ori and the Blind Forest: Definitive Edition              0.62\n",
      "23   291550                                    Brawlhalla              0.60\n",
      "24   413150                                Stardew Valley             65.73\n",
      "25   359550                Tom Clancy's Rainbow Six Siege            171.38\n",
      "26   623990  Tom Clancy's Rainbow Six Siege - Test Server              0.00\n",
      "27   431960                              Wallpaper Engine              2.08\n",
      "28   433340                                 Slime Rancher              0.00\n",
      "29   444090                                      Paladins              1.58\n",
      "30   596350                        Paladins - Public Test              0.00\n",
      "31   504230                                       Celeste             15.75\n",
      "32   319630                              Life is Strange™              0.00\n",
      "33   593280                                     Cat Quest              3.40\n",
      "34   632360                                Risk of Rain 2             14.72\n",
      "35   204300                                  Awesomenauts              0.30\n",
      "36   736260                                   Baba Is You              3.42\n",
      "37   858210                                    Nova Drift             21.08\n",
      "38   714010                                       Aimlabs             92.67\n",
      "39   914710                                  Cat Quest II              4.77\n",
      "40   962580                                Summer in Mara              0.13\n",
      "41  1113000                              Persona 4 Golden             13.82\n",
      "42  1172470                                  Apex Legends              2.62\n",
      "43  1172620                                Sea of Thieves             16.83\n",
      "44  1145360                                         Hades             34.13\n",
      "45   582010                         Monster Hunter: World              5.08\n",
      "46  1268110                                  ISEKAI QUEST              4.73\n",
      "47  1290000                           PowerWash Simulator             10.13\n",
      "48   441380               PAC-MAN™ CHAMPIONSHIP EDITION 2              0.00\n",
      "49  1304930                            The Outlast Trials             20.35\n",
      "50  1326470                            Sons Of The Forest             13.95\n",
      "51  1587710                                 Fossil Corner              4.97\n",
      "52  1607680                                  Bread & Fred              0.50\n",
      "53  1687950                               Persona 5 Royal              1.27\n",
      "54  1714040                               Super Auto Pets             27.22\n",
      "55  1240440                                 Halo Infinite              0.00\n",
      "56  1850570                DEATH STRANDING DIRECTOR'S CUT             40.27\n",
      "57  1446780                           MONSTER HUNTER RISE             98.57\n",
      "58  1961460                              Project Playtime              0.00\n",
      "59  1966720                                Lethal Company             11.93\n",
      "60  1987080                          Inside the Backrooms              8.03\n",
      "61  2073850                                    THE FINALS             96.13\n",
      "62  1938090                                 Call of Duty®             29.87\n",
      "63  1364780                             Street Fighter™ 6             19.47\n"
     ]
    }
   ],
   "source": [
    "import pandas as pd\n",
    "\n",
    "# Use pd.json_normalize() to flatten nested JSON data and create a DataFrame\n",
    "df = pd.json_normalize(data['response']['games'])\n",
    "\n",
    "\n",
    "# Convert playtime_forever from minutes to hours\n",
    "df['playtime_forever'] /= 60  # Divide by 60 to convert minutes to hours\n",
    "\n",
    "# Selecting only the columns of interest\n",
    "df = df[['appid', 'name', 'playtime_forever']]\n",
    "\n",
    "pd.set_option('display.precision', 2)\n",
    "\n",
    "\n",
    "# Display the DataFrame\n",
    "print(df)"
   ]
  },
  {
   "cell_type": "code",
   "execution_count": null,
   "id": "2cae6a60",
   "metadata": {},
   "outputs": [],
   "source": []
  }
 ],
 "metadata": {
  "kernelspec": {
   "display_name": "Python 3 (ipykernel)",
   "language": "python",
   "name": "python3"
  },
  "language_info": {
   "codemirror_mode": {
    "name": "ipython",
    "version": 3
   },
   "file_extension": ".py",
   "mimetype": "text/x-python",
   "name": "python",
   "nbconvert_exporter": "python",
   "pygments_lexer": "ipython3",
   "version": "3.11.5"
  }
 },
 "nbformat": 4,
 "nbformat_minor": 5
}
