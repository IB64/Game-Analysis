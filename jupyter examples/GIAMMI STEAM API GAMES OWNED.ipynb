{
 "cells": [
  {
   "cell_type": "code",
   "execution_count": 11,
   "id": "1379fe36",
   "metadata": {},
   "outputs": [
    {
     "name": "stdout",
     "output_type": "stream",
     "text": [
      "{'response': {'game_count': 52, 'games': [{'appid': 6000, 'name': 'STAR WARS™ Republic Commando', 'playtime_forever': 141, 'img_icon_url': '73d4fd5437a5491479c7235eef64cf7d5e2c2e8e', 'playtime_windows_forever': 141, 'playtime_mac_forever': 0, 'playtime_linux_forever': 0, 'playtime_deck_forever': 0, 'rtime_last_played': 1631643442, 'playtime_disconnected': 0}, {'appid': 10680, 'name': 'Aliens vs. Predator', 'playtime_forever': 329, 'img_icon_url': '673dbdae48b77aaff38cd48a87607548e21220de', 'has_community_visible_stats': True, 'playtime_windows_forever': 329, 'playtime_mac_forever': 0, 'playtime_linux_forever': 0, 'playtime_deck_forever': 0, 'rtime_last_played': 1662413861, 'playtime_disconnected': 0}, {'appid': 230410, 'name': 'Warframe', 'playtime_forever': 386, 'img_icon_url': '22064646470f4c53388ba87774c7ac10f0a91ffa', 'has_community_visible_stats': True, 'playtime_windows_forever': 386, 'playtime_mac_forever': 0, 'playtime_linux_forever': 0, 'playtime_deck_forever': 0, 'rtime_last_played': 1697152317, 'content_descriptorids': [2, 5], 'playtime_disconnected': 0}, {'appid': 242760, 'name': 'The Forest', 'playtime_forever': 838, 'img_icon_url': '3a6847f6ac5879e48531db52261771d5e22904ac', 'has_community_visible_stats': True, 'playtime_windows_forever': 838, 'playtime_mac_forever': 0, 'playtime_linux_forever': 0, 'playtime_deck_forever': 0, 'rtime_last_played': 1662591602, 'content_descriptorids': [2, 5], 'playtime_disconnected': 0}, {'appid': 271590, 'name': 'Grand Theft Auto V', 'playtime_forever': 0, 'img_icon_url': '1e72f87eb927fa1485e68aefaff23c7fd7178251', 'has_community_visible_stats': True, 'playtime_windows_forever': 0, 'playtime_mac_forever': 0, 'playtime_linux_forever': 0, 'playtime_deck_forever': 0, 'rtime_last_played': 0, 'content_descriptorids': [5], 'playtime_disconnected': 0}, {'appid': 304430, 'name': 'INSIDE', 'playtime_forever': 0, 'img_icon_url': '047e00c80d6aca008ce5eaaf54df4d98c822ee19', 'has_community_visible_stats': True, 'playtime_windows_forever': 0, 'playtime_mac_forever': 0, 'playtime_linux_forever': 0, 'playtime_deck_forever': 0, 'rtime_last_played': 0, 'playtime_disconnected': 0}, {'appid': 238320, 'name': 'Outlast', 'playtime_forever': 0, 'img_icon_url': '46bd3df92d4693d3b2af113bf8f31c2cbdadb20a', 'has_community_visible_stats': True, 'playtime_windows_forever': 0, 'playtime_mac_forever': 0, 'playtime_linux_forever': 0, 'playtime_deck_forever': 0, 'rtime_last_played': 0, 'content_descriptorids': [2, 5], 'playtime_disconnected': 0}, {'appid': 730, 'name': 'Counter-Strike 2', 'playtime_forever': 4103, 'img_icon_url': '8dbc71957312bbd3baea65848b545be9eae2a355', 'has_community_visible_stats': True, 'playtime_windows_forever': 4103, 'playtime_mac_forever': 0, 'playtime_linux_forever': 0, 'playtime_deck_forever': 0, 'rtime_last_played': 1696636354, 'content_descriptorids': [2, 5], 'playtime_disconnected': 0}, {'appid': 219740, 'name': \"Don't Starve\", 'playtime_forever': 46, 'img_icon_url': '03fe647df40dccc4d19bf42a0185cd3e6b9f2953', 'playtime_windows_forever': 46, 'playtime_mac_forever': 0, 'playtime_linux_forever': 0, 'playtime_deck_forever': 0, 'rtime_last_played': 1689702763, 'playtime_disconnected': 0}, {'appid': 383870, 'name': 'Firewatch', 'playtime_forever': 0, 'img_icon_url': 'd13e70a08cab192c52104f315a7d68591c085e81', 'has_community_visible_stats': True, 'playtime_windows_forever': 0, 'playtime_mac_forever': 0, 'playtime_linux_forever': 0, 'playtime_deck_forever': 0, 'rtime_last_played': 0, 'playtime_disconnected': 0}, {'appid': 208650, 'name': 'Batman™: Arkham Knight', 'playtime_forever': 1061, 'img_icon_url': 'f6c2ce13796844750dfbd01685fb009eeac4bf70', 'has_community_visible_stats': True, 'playtime_windows_forever': 1061, 'playtime_mac_forever': 0, 'playtime_linux_forever': 0, 'playtime_deck_forever': 0, 'rtime_last_played': 1665605359, 'playtime_disconnected': 0}, {'appid': 424840, 'name': 'Little Nightmares', 'playtime_forever': 203, 'img_icon_url': '1904c041f963b5e2cb22b56c370444517cc4e288', 'has_community_visible_stats': True, 'playtime_windows_forever': 203, 'playtime_mac_forever': 0, 'playtime_linux_forever': 0, 'playtime_deck_forever': 0, 'rtime_last_played': 1689697554, 'playtime_disconnected': 0}, {'appid': 431960, 'name': 'Wallpaper Engine', 'playtime_forever': 187, 'img_icon_url': '72edaed9d748c6cf7397ffb1c83f0b837b9ebd9d', 'has_community_visible_stats': True, 'playtime_windows_forever': 187, 'playtime_mac_forever': 0, 'playtime_linux_forever': 0, 'playtime_deck_forever': 0, 'rtime_last_played': 1704821474, 'playtime_disconnected': 0}, {'appid': 444090, 'name': 'Paladins', 'playtime_forever': 453, 'img_icon_url': '1565119c17f532338a0645b98e69e1fc1df0c29e', 'has_community_visible_stats': True, 'playtime_windows_forever': 453, 'playtime_mac_forever': 0, 'playtime_linux_forever': 0, 'playtime_deck_forever': 0, 'rtime_last_played': 1700697755, 'playtime_disconnected': 0}, {'appid': 596350, 'name': 'Paladins - Public Test', 'playtime_forever': 0, 'img_icon_url': '0a073dec4ffe8398b74369289d0c987134e35986', 'playtime_windows_forever': 0, 'playtime_mac_forever': 0, 'playtime_linux_forever': 0, 'playtime_deck_forever': 0, 'rtime_last_played': 0, 'playtime_disconnected': 0}, {'appid': 319630, 'name': 'Life is Strange™', 'playtime_forever': 0, 'img_icon_url': 'e54b13da0710a35e7088664a77632e79157d8332', 'has_community_visible_stats': True, 'playtime_windows_forever': 0, 'playtime_mac_forever': 0, 'playtime_linux_forever': 0, 'playtime_deck_forever': 0, 'rtime_last_played': 0, 'playtime_disconnected': 0}, {'appid': 292030, 'name': 'The Witcher 3: Wild Hunt', 'playtime_forever': 2290, 'img_icon_url': '6e43cb881e60712c3cccdd7f871baa56acf15328', 'has_community_visible_stats': True, 'playtime_windows_forever': 2290, 'playtime_mac_forever': 0, 'playtime_linux_forever': 0, 'playtime_deck_forever': 0, 'rtime_last_played': 1707766497, 'content_descriptorids': [1, 5], 'playtime_disconnected': 0}, {'appid': 7670, 'name': 'BioShock', 'playtime_forever': 0, 'img_icon_url': '9a7c9f640a76e6a32592277dbbc36a0f6da05372', 'playtime_windows_forever': 0, 'playtime_mac_forever': 0, 'playtime_linux_forever': 0, 'playtime_deck_forever': 0, 'rtime_last_played': 0, 'playtime_disconnected': 0}, {'appid': 8850, 'name': 'BioShock 2', 'playtime_forever': 0, 'img_icon_url': 'f5eda925c0e57373aaea4cae17b6f175115a8d54', 'has_community_visible_stats': True, 'playtime_windows_forever': 0, 'playtime_mac_forever': 0, 'playtime_linux_forever': 0, 'playtime_deck_forever': 0, 'rtime_last_played': 0, 'playtime_disconnected': 0}, {'appid': 8870, 'name': 'BioShock Infinite', 'playtime_forever': 0, 'img_icon_url': '4ebaf5f9ee74f50152f7ff361debef7553fa0e4e', 'has_community_visible_stats': True, 'playtime_windows_forever': 0, 'playtime_mac_forever': 0, 'playtime_linux_forever': 0, 'playtime_deck_forever': 0, 'rtime_last_played': 0, 'playtime_disconnected': 0}, {'appid': 409710, 'name': 'BioShock Remastered', 'playtime_forever': 0, 'img_icon_url': 'eb72262cd3ccc3219dd76392be3b60a4b6cbfd38', 'has_community_visible_stats': True, 'playtime_windows_forever': 0, 'playtime_mac_forever': 0, 'playtime_linux_forever': 0, 'playtime_deck_forever': 0, 'rtime_last_played': 0, 'playtime_disconnected': 0}, {'appid': 409720, 'name': 'BioShock 2 Remastered', 'playtime_forever': 0, 'img_icon_url': '97527a02b36f8ac4aba21005c2d953cc908a08e1', 'has_community_visible_stats': True, 'playtime_windows_forever': 0, 'playtime_mac_forever': 0, 'playtime_linux_forever': 0, 'playtime_deck_forever': 0, 'rtime_last_played': 0, 'content_descriptorids': [5], 'playtime_disconnected': 0}, {'appid': 739630, 'name': 'Phasmophobia', 'playtime_forever': 0, 'img_icon_url': '125673b382059f666ec81477173380a76e1df0be', 'has_community_visible_stats': True, 'playtime_windows_forever': 0, 'playtime_mac_forever': 0, 'playtime_linux_forever': 0, 'playtime_deck_forever': 0, 'rtime_last_played': 0, 'playtime_disconnected': 0}, {'appid': 860510, 'name': 'Little Nightmares II', 'playtime_forever': 358, 'img_icon_url': '8875efb23a0fc1f079f227508d981f2cba82d735', 'has_community_visible_stats': True, 'playtime_windows_forever': 358, 'playtime_mac_forever': 0, 'playtime_linux_forever': 0, 'playtime_deck_forever': 0, 'rtime_last_played': 1690136958, 'playtime_disconnected': 0}, {'appid': 714010, 'name': 'Aimlabs', 'playtime_forever': 403, 'img_icon_url': '15347de11efc127539c388e585af9e92d10d5189', 'has_community_visible_stats': True, 'playtime_windows_forever': 403, 'playtime_mac_forever': 0, 'playtime_linux_forever': 0, 'playtime_deck_forever': 0, 'rtime_last_played': 1696971083, 'has_leaderboards': True, 'playtime_disconnected': 0}, {'appid': 920210, 'name': 'LEGO® Star Wars™: The Skywalker Saga', 'playtime_forever': 656, 'img_icon_url': '568a07f03f8dba0b74c4a02f6ebb43ce5e09075c', 'has_community_visible_stats': True, 'playtime_windows_forever': 656, 'playtime_mac_forever': 0, 'playtime_linux_forever': 0, 'playtime_deck_forever': 0, 'rtime_last_played': 1668045190, 'playtime_disconnected': 0}, {'appid': 782330, 'name': 'DOOM Eternal', 'playtime_forever': 610, 'img_icon_url': '14235f425d27ab3b83661ba14c17d22dc90e566b', 'has_community_visible_stats': True, 'playtime_windows_forever': 610, 'playtime_mac_forever': 0, 'playtime_linux_forever': 0, 'playtime_deck_forever': 0, 'rtime_last_played': 1661978815, 'content_descriptorids': [2, 5], 'playtime_disconnected': 0}, {'appid': 1128810, 'name': 'RISK: Global Domination', 'playtime_forever': 0, 'img_icon_url': 'ecc6f7301e88a88e93edec1a3d4ddcc7ec9c5335', 'has_community_visible_stats': True, 'playtime_windows_forever': 0, 'playtime_mac_forever': 0, 'playtime_linux_forever': 0, 'playtime_deck_forever': 0, 'rtime_last_played': 0, 'playtime_disconnected': 0}, {'appid': 1085660, 'name': 'Destiny 2', 'playtime_forever': 0, 'img_icon_url': 'fce050d63f0a2f8eb51b603c7f30bfca2a301549', 'has_community_visible_stats': True, 'playtime_windows_forever': 0, 'playtime_mac_forever': 0, 'playtime_linux_forever': 0, 'playtime_deck_forever': 0, 'rtime_last_played': 0, 'playtime_disconnected': 0}, {'appid': 1172470, 'name': 'Apex Legends', 'playtime_forever': 187, 'img_icon_url': '070902d2389878ac4bf29efb5b92832c60bdf24e', 'has_community_visible_stats': True, 'playtime_windows_forever': 187, 'playtime_mac_forever': 0, 'playtime_linux_forever': 0, 'playtime_deck_forever': 0, 'rtime_last_played': 1682034052, 'playtime_disconnected': 0}, {'appid': 1172620, 'name': 'Sea of Thieves', 'playtime_forever': 1134, 'img_icon_url': 'f95f362708fc326511c5d86566c447ee625bf776', 'has_community_visible_stats': True, 'playtime_windows_forever': 1134, 'playtime_mac_forever': 0, 'playtime_linux_forever': 0, 'playtime_deck_forever': 0, 'rtime_last_played': 1689721928, 'playtime_disconnected': 0}, {'appid': 1174180, 'name': 'Red Dead Redemption 2', 'playtime_forever': 2734, 'img_icon_url': '5106abd9c1187a97f23295a0ba9470c94804ec6c', 'has_community_visible_stats': True, 'playtime_windows_forever': 2734, 'playtime_mac_forever': 0, 'playtime_linux_forever': 0, 'playtime_deck_forever': 0, 'rtime_last_played': 1687979545, 'content_descriptorids': [5], 'playtime_disconnected': 0}, {'appid': 359550, 'name': \"Tom Clancy's Rainbow Six Siege\", 'playtime_forever': 12393, 'img_icon_url': '624745d333ac54aedb1ee911013e2edb7722550e', 'playtime_windows_forever': 12393, 'playtime_mac_forever': 0, 'playtime_linux_forever': 0, 'playtime_deck_forever': 0, 'rtime_last_played': 1683071838, 'playtime_disconnected': 0}, {'appid': 623990, 'name': \"Tom Clancy's Rainbow Six Siege - Test Server\", 'playtime_forever': 4, 'img_icon_url': '20deaf466474f76f2ffdb345fe56f40fe3af74c0', 'playtime_windows_forever': 4, 'playtime_mac_forever': 0, 'playtime_linux_forever': 0, 'playtime_deck_forever': 0, 'rtime_last_played': 1671920681, 'playtime_disconnected': 0}, {'appid': 1245620, 'name': 'ELDEN RING', 'playtime_forever': 741, 'img_icon_url': 'b6e290dd5a92ce98f89089a207733c70c41a1871', 'has_community_visible_stats': True, 'playtime_windows_forever': 741, 'playtime_mac_forever': 0, 'playtime_linux_forever': 0, 'playtime_deck_forever': 0, 'rtime_last_played': 1704836671, 'content_descriptorids': [2, 5], 'playtime_disconnected': 0}, {'appid': 1237970, 'name': 'Titanfall® 2', 'playtime_forever': 334, 'img_icon_url': 'd73c7e572859bd7490947d1aeab5c33eda18fd64', 'has_community_visible_stats': True, 'playtime_windows_forever': 334, 'playtime_mac_forever': 0, 'playtime_linux_forever': 0, 'playtime_deck_forever': 0, 'rtime_last_played': 1663959903, 'content_descriptorids': [2, 5], 'playtime_disconnected': 0}, {'appid': 1290000, 'name': 'PowerWash Simulator', 'playtime_forever': 1600, 'img_icon_url': 'cdc9126e41c1968c52fb86b46f0391db1fa23420', 'has_community_visible_stats': True, 'playtime_windows_forever': 1600, 'playtime_mac_forever': 0, 'playtime_linux_forever': 0, 'playtime_deck_forever': 0, 'rtime_last_played': 1710201499, 'playtime_disconnected': 0}, {'appid': 1304930, 'name': 'The Outlast Trials', 'playtime_forever': 1240, 'img_icon_url': '159a7d66ffd179c920eefe07392e6a261e899965', 'has_community_visible_stats': True, 'playtime_windows_forever': 1240, 'playtime_mac_forever': 0, 'playtime_linux_forever': 0, 'playtime_deck_forever': 0, 'rtime_last_played': 1698884485, 'content_descriptorids': [1, 2, 5], 'playtime_disconnected': 0}, {'appid': 1326470, 'name': 'Sons Of The Forest', 'playtime_forever': 1251, 'img_icon_url': 'bd28fe592b339cff5a3eef743f31e3166c984c68', 'has_community_visible_stats': True, 'playtime_windows_forever': 1251, 'playtime_mac_forever': 0, 'playtime_linux_forever': 0, 'playtime_deck_forever': 0, 'rtime_last_played': 1683589114, 'content_descriptorids': [1, 2, 5], 'playtime_disconnected': 0}, {'appid': 1426210, 'name': 'It Takes Two', 'playtime_forever': 452, 'img_icon_url': '6b15f6d81c4fc52056f4928b363b7fac591a945b', 'has_community_visible_stats': True, 'playtime_windows_forever': 452, 'playtime_mac_forever': 0, 'playtime_linux_forever': 0, 'playtime_deck_forever': 0, 'rtime_last_played': 1674171956, 'playtime_disconnected': 0}, {'appid': 1449850, 'name': 'Yu-Gi-Oh!  Master Duel', 'playtime_forever': 0, 'img_icon_url': '3e2a2dbbb3576b671cc1f2403975fe956fca427f', 'has_community_visible_stats': True, 'playtime_windows_forever': 0, 'playtime_mac_forever': 0, 'playtime_linux_forever': 0, 'playtime_deck_forever': 0, 'rtime_last_played': 0, 'playtime_disconnected': 0}, {'appid': 1659420, 'name': 'UNCHARTED™: Legacy of Thieves Collection', 'playtime_forever': 1203, 'img_icon_url': 'b566a403067d6abf75136a3c19f9ed0d2e4fb5b1', 'has_community_visible_stats': True, 'playtime_windows_forever': 1203, 'playtime_mac_forever': 0, 'playtime_linux_forever': 0, 'playtime_deck_forever': 0, 'rtime_last_played': 1671918596, 'playtime_disconnected': 0}, {'appid': 47780, 'name': 'Dead Space 2', 'playtime_forever': 0, 'img_icon_url': '6393351676edc4fdc65937a599780818fd2f18b7', 'playtime_windows_forever': 0, 'playtime_mac_forever': 0, 'playtime_linux_forever': 0, 'playtime_deck_forever': 0, 'rtime_last_played': 0, 'playtime_disconnected': 0}, {'appid': 1693980, 'name': 'Dead Space', 'playtime_forever': 848, 'img_icon_url': '3368d467f4f60f9f07ec4c206a22184fae060be2', 'has_community_visible_stats': True, 'playtime_windows_forever': 848, 'playtime_mac_forever': 0, 'playtime_linux_forever': 0, 'playtime_deck_forever': 0, 'rtime_last_played': 1694605100, 'content_descriptorids': [2, 5], 'playtime_disconnected': 0}, {'appid': 1240440, 'name': 'Halo Infinite', 'playtime_forever': 151, 'img_icon_url': 'ec684b943169d675439f6cdf64fa2f2aa90d9821', 'has_community_visible_stats': True, 'playtime_windows_forever': 151, 'playtime_mac_forever': 0, 'playtime_linux_forever': 0, 'playtime_deck_forever': 0, 'rtime_last_played': 1638979743, 'playtime_disconnected': 0}, {'appid': 1926620, 'name': 'The Backrooms: Lost Tape', 'playtime_forever': 1, 'img_icon_url': 'e5cbf3204cede0b78088673cca1ccd2951e79072', 'playtime_windows_forever': 1, 'playtime_mac_forever': 0, 'playtime_linux_forever': 0, 'playtime_deck_forever': 0, 'rtime_last_played': 1703724378, 'playtime_disconnected': 0}, {'appid': 1961460, 'name': 'Project Playtime', 'playtime_forever': 0, 'img_icon_url': 'c443ac07bed8665c5bef29464351c3b236684759', 'playtime_windows_forever': 0, 'playtime_mac_forever': 0, 'playtime_linux_forever': 0, 'playtime_deck_forever': 0, 'rtime_last_played': 0, 'playtime_disconnected': 0}, {'appid': 1966720, 'name': 'Lethal Company', 'playtime_forever': 538, 'img_icon_url': '8393f321a62a9ef0be762c81565d2caea4fb7da6', 'playtime_windows_forever': 538, 'playtime_mac_forever': 0, 'playtime_linux_forever': 0, 'playtime_deck_forever': 0, 'rtime_last_played': 1709424895, 'content_descriptorids': [2, 5], 'playtime_disconnected': 0}, {'appid': 1987080, 'name': 'Inside the Backrooms', 'playtime_forever': 510, 'img_icon_url': '36c529359e0802af3589360e03ed781c366b5ae5', 'has_community_visible_stats': True, 'playtime_windows_forever': 510, 'playtime_mac_forever': 0, 'playtime_linux_forever': 0, 'playtime_deck_forever': 0, 'rtime_last_played': 1666132859, 'playtime_disconnected': 0}, {'appid': 1721470, 'name': 'Poppy Playtime', 'playtime_forever': 0, 'img_icon_url': '2035ade9393613f669a77e23d09b1fa22ac77481', 'playtime_windows_forever': 0, 'playtime_mac_forever': 0, 'playtime_linux_forever': 0, 'playtime_deck_forever': 0, 'rtime_last_played': 0, 'playtime_disconnected': 0}, {'appid': 1577120, 'name': 'The Quarry', 'playtime_forever': 756, 'img_icon_url': 'a07e751df943234665eb9b91fd44cbb4aa3477c6', 'has_community_visible_stats': True, 'playtime_windows_forever': 756, 'playtime_mac_forever': 0, 'playtime_linux_forever': 0, 'playtime_deck_forever': 0, 'rtime_last_played': 1656194405, 'content_descriptorids': [2, 5], 'playtime_disconnected': 0}, {'appid': 2073850, 'name': 'THE FINALS', 'playtime_2weeks': 936, 'playtime_forever': 7246, 'img_icon_url': 'bff0b7e00b1c80a7f9fc7999a5a81d52a70c7b2d', 'has_community_visible_stats': True, 'playtime_windows_forever': 7246, 'playtime_mac_forever': 0, 'playtime_linux_forever': 0, 'playtime_deck_forever': 0, 'rtime_last_played': 1711325104, 'playtime_disconnected': 685}]}}\n"
     ]
    }
   ],
   "source": [
    "import requests\n",
    "\n",
    "# API endpoint URL\n",
    "url = \"https://api.steampowered.com/IPlayerService/GetOwnedGames/v0001/?key=638B25CA545D1DCFC5E2188A15A841F5&steamid=76561199204427262&format=json&include_appinfo=true\"\n",
    "\n",
    "# Send GET request to the API endpoint\n",
    "response = requests.get(url)\n",
    "\n",
    "# Check if the request was successful (status code 200)\n",
    "if response.status_code == 200:\n",
    "    # Parse the JSON response\n",
    "    data = response.json()\n",
    "    \n",
    "    # Now you can work with the data\n",
    "    print(data)\n",
    "else:\n",
    "    # Print an error message if the request was unsuccessful\n",
    "    print(\"Error:\", response.status_code)\n"
   ]
  },
  {
   "cell_type": "code",
   "execution_count": 12,
   "id": "53c50794",
   "metadata": {},
   "outputs": [
    {
     "data": {
      "text/plain": [
       "dict"
      ]
     },
     "execution_count": 12,
     "metadata": {},
     "output_type": "execute_result"
    }
   ],
   "source": [
    "type(data)"
   ]
  },
  {
   "cell_type": "code",
   "execution_count": 18,
   "id": "8c2d37f8",
   "metadata": {},
   "outputs": [
    {
     "name": "stdout",
     "output_type": "stream",
     "text": [
      "      appid                                          name  playtime_forever\n",
      "0      6000                  STAR WARS™ Republic Commando              2.35\n",
      "1     10680                           Aliens vs. Predator              5.48\n",
      "2    230410                                      Warframe              6.43\n",
      "3    242760                                    The Forest             13.97\n",
      "4    271590                            Grand Theft Auto V              0.00\n",
      "5    304430                                        INSIDE              0.00\n",
      "6    238320                                       Outlast              0.00\n",
      "7       730                              Counter-Strike 2             68.38\n",
      "8    219740                                  Don't Starve              0.77\n",
      "9    383870                                     Firewatch              0.00\n",
      "10   208650                        Batman™: Arkham Knight             17.68\n",
      "11   424840                             Little Nightmares              3.38\n",
      "12   431960                              Wallpaper Engine              3.12\n",
      "13   444090                                      Paladins              7.55\n",
      "14   596350                        Paladins - Public Test              0.00\n",
      "15   319630                              Life is Strange™              0.00\n",
      "16   292030                      The Witcher 3: Wild Hunt             38.17\n",
      "17     7670                                      BioShock              0.00\n",
      "18     8850                                    BioShock 2              0.00\n",
      "19     8870                             BioShock Infinite              0.00\n",
      "20   409710                           BioShock Remastered              0.00\n",
      "21   409720                         BioShock 2 Remastered              0.00\n",
      "22   739630                                  Phasmophobia              0.00\n",
      "23   860510                          Little Nightmares II              5.97\n",
      "24   714010                                       Aimlabs              6.72\n",
      "25   920210          LEGO® Star Wars™: The Skywalker Saga             10.93\n",
      "26   782330                                  DOOM Eternal             10.17\n",
      "27  1128810                       RISK: Global Domination              0.00\n",
      "28  1085660                                     Destiny 2              0.00\n",
      "29  1172470                                  Apex Legends              3.12\n",
      "30  1172620                                Sea of Thieves             18.90\n",
      "31  1174180                         Red Dead Redemption 2             45.57\n",
      "32   359550                Tom Clancy's Rainbow Six Siege            206.55\n",
      "33   623990  Tom Clancy's Rainbow Six Siege - Test Server              0.07\n",
      "34  1245620                                    ELDEN RING             12.35\n",
      "35  1237970                                  Titanfall® 2              5.57\n",
      "36  1290000                           PowerWash Simulator             26.67\n",
      "37  1304930                            The Outlast Trials             20.67\n",
      "38  1326470                            Sons Of The Forest             20.85\n",
      "39  1426210                                  It Takes Two              7.53\n",
      "40  1449850                        Yu-Gi-Oh!  Master Duel              0.00\n",
      "41  1659420      UNCHARTED™: Legacy of Thieves Collection             20.05\n",
      "42    47780                                  Dead Space 2              0.00\n",
      "43  1693980                                    Dead Space             14.13\n",
      "44  1240440                                 Halo Infinite              2.52\n",
      "45  1926620                      The Backrooms: Lost Tape              0.02\n",
      "46  1961460                              Project Playtime              0.00\n",
      "47  1966720                                Lethal Company              8.97\n",
      "48  1987080                          Inside the Backrooms              8.50\n",
      "49  1721470                                Poppy Playtime              0.00\n",
      "50  1577120                                    The Quarry             12.60\n",
      "51  2073850                                    THE FINALS            120.77\n"
     ]
    }
   ],
   "source": [
    "import pandas as pd\n",
    "\n",
    "# Use pd.json_normalize() to flatten nested JSON data and create a DataFrame\n",
    "df = pd.json_normalize(data['response']['games'])\n",
    "\n",
    "\n",
    "# Convert playtime_forever from minutes to hours\n",
    "df['playtime_forever'] /= 60  # Divide by 60 to convert minutes to hours\n",
    "\n",
    "# Selecting only the columns of interest\n",
    "df = df[['appid', 'name', 'playtime_forever']]\n",
    "\n",
    "pd.set_option('display.precision', 2)\n",
    "\n",
    "# Display the DataFrame\n",
    "print(df)\n"
   ]
  },
  {
   "cell_type": "code",
   "execution_count": null,
   "id": "c8642a5d",
   "metadata": {},
   "outputs": [],
   "source": []
  }
 ],
 "metadata": {
  "kernelspec": {
   "display_name": "Python 3 (ipykernel)",
   "language": "python",
   "name": "python3"
  },
  "language_info": {
   "codemirror_mode": {
    "name": "ipython",
    "version": 3
   },
   "file_extension": ".py",
   "mimetype": "text/x-python",
   "name": "python",
   "nbconvert_exporter": "python",
   "pygments_lexer": "ipython3",
   "version": "3.11.5"
  }
 },
 "nbformat": 4,
 "nbformat_minor": 5
}
