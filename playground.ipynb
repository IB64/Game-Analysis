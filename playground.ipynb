{
 "cells": [
  {
   "cell_type": "markdown",
   "metadata": {},
   "source": [
    "# Extract data\n",
    "\n",
    "This extracts the data for the user OilyBurger"
   ]
  },
  {
   "cell_type": "code",
   "execution_count": 16,
   "metadata": {},
   "outputs": [],
   "source": [
    "import extract as ex\n",
    "from dotenv import load_dotenv\n",
    "\n",
    "load_dotenv()\n",
    "\n",
    "owned_games = ex.get_owned_games(\"76561198235391392\")\n",
    "games = ex.get_games_info(owned_games)\n",
    "\n",
    "games_data = []\n",
    "for game in games:\n",
    "    web_page = ex.get_html(game[\"id\"])\n",
    "    game_genres = ex.extract_genre(web_page)\n",
    "    games_data.append({\n",
    "        'Game_Id': game['id'],\n",
    "        'Game_Name': game['name'],\n",
    "        'Game_Genres': game_genres,\n",
    "        'Playtime_Minutes': game['playtime']\n",
    "        })"
   ]
  },
  {
   "cell_type": "markdown",
   "metadata": {},
   "source": [
    "# Cleaning the data\n",
    "\n",
    "The data is converted into a data frame and then cleaned."
   ]
  },
  {
   "cell_type": "markdown",
   "metadata": {},
   "source": [
    "## Flattening the data\n",
    "\n",
    "The data is first flattened so the list of genres occupy separate rows for each game"
   ]
  },
  {
   "cell_type": "code",
   "execution_count": 20,
   "metadata": {},
   "outputs": [
    {
     "data": {
      "text/html": [
       "<div>\n",
       "<style scoped>\n",
       "    .dataframe tbody tr th:only-of-type {\n",
       "        vertical-align: middle;\n",
       "    }\n",
       "\n",
       "    .dataframe tbody tr th {\n",
       "        vertical-align: top;\n",
       "    }\n",
       "\n",
       "    .dataframe thead th {\n",
       "        text-align: right;\n",
       "    }\n",
       "</style>\n",
       "<table border=\"1\" class=\"dataframe\">\n",
       "  <thead>\n",
       "    <tr style=\"text-align: right;\">\n",
       "      <th></th>\n",
       "      <th>Game_Id</th>\n",
       "      <th>Game_Name</th>\n",
       "      <th>Game_Genres</th>\n",
       "      <th>Playtime_Minutes</th>\n",
       "    </tr>\n",
       "  </thead>\n",
       "  <tbody>\n",
       "    <tr>\n",
       "      <th>0</th>\n",
       "      <td>105600</td>\n",
       "      <td>Terraria</td>\n",
       "      <td>Action</td>\n",
       "      <td>34</td>\n",
       "    </tr>\n",
       "    <tr>\n",
       "      <th>0</th>\n",
       "      <td>105600</td>\n",
       "      <td>Terraria</td>\n",
       "      <td>Adventure</td>\n",
       "      <td>34</td>\n",
       "    </tr>\n",
       "    <tr>\n",
       "      <th>0</th>\n",
       "      <td>105600</td>\n",
       "      <td>Terraria</td>\n",
       "      <td>Indie</td>\n",
       "      <td>34</td>\n",
       "    </tr>\n",
       "    <tr>\n",
       "      <th>0</th>\n",
       "      <td>105600</td>\n",
       "      <td>Terraria</td>\n",
       "      <td>RPG</td>\n",
       "      <td>34</td>\n",
       "    </tr>\n",
       "    <tr>\n",
       "      <th>1</th>\n",
       "      <td>218680</td>\n",
       "      <td>Scribblenauts Unlimited</td>\n",
       "      <td>Adventure</td>\n",
       "      <td>90</td>\n",
       "    </tr>\n",
       "    <tr>\n",
       "      <th>...</th>\n",
       "      <td>...</td>\n",
       "      <td>...</td>\n",
       "      <td>...</td>\n",
       "      <td>...</td>\n",
       "    </tr>\n",
       "    <tr>\n",
       "      <th>61</th>\n",
       "      <td>2073850</td>\n",
       "      <td>THE FINALS</td>\n",
       "      <td>Action</td>\n",
       "      <td>5954</td>\n",
       "    </tr>\n",
       "    <tr>\n",
       "      <th>61</th>\n",
       "      <td>2073850</td>\n",
       "      <td>THE FINALS</td>\n",
       "      <td>Free to Play</td>\n",
       "      <td>5954</td>\n",
       "    </tr>\n",
       "    <tr>\n",
       "      <th>62</th>\n",
       "      <td>1938090</td>\n",
       "      <td>Call of Duty®</td>\n",
       "      <td>Action</td>\n",
       "      <td>1792</td>\n",
       "    </tr>\n",
       "    <tr>\n",
       "      <th>63</th>\n",
       "      <td>1364780</td>\n",
       "      <td>Street Fighter™ 6</td>\n",
       "      <td>Action</td>\n",
       "      <td>1168</td>\n",
       "    </tr>\n",
       "    <tr>\n",
       "      <th>63</th>\n",
       "      <td>1364780</td>\n",
       "      <td>Street Fighter™ 6</td>\n",
       "      <td>Adventure</td>\n",
       "      <td>1168</td>\n",
       "    </tr>\n",
       "  </tbody>\n",
       "</table>\n",
       "<p>206 rows × 4 columns</p>\n",
       "</div>"
      ],
      "text/plain": [
       "    Game_Id                Game_Name   Game_Genres  Playtime_Minutes\n",
       "0    105600                 Terraria        Action                34\n",
       "0    105600                 Terraria     Adventure                34\n",
       "0    105600                 Terraria         Indie                34\n",
       "0    105600                 Terraria           RPG                34\n",
       "1    218680  Scribblenauts Unlimited     Adventure                90\n",
       "..      ...                      ...           ...               ...\n",
       "61  2073850               THE FINALS        Action              5954\n",
       "61  2073850               THE FINALS  Free to Play              5954\n",
       "62  1938090            Call of Duty®        Action              1792\n",
       "63  1364780        Street Fighter™ 6        Action              1168\n",
       "63  1364780        Street Fighter™ 6     Adventure              1168\n",
       "\n",
       "[206 rows x 4 columns]"
      ]
     },
     "execution_count": 20,
     "metadata": {},
     "output_type": "execute_result"
    }
   ],
   "source": [
    "import pandas as pd\n",
    "\n",
    "data = pd.DataFrame(games_data)\n",
    "# Flatten the data\n",
    "def flatten_data(data: pd.DataFrame):\n",
    "    data = data.explode(\"Game_Genres\")\n",
    "    data.reset_index(drop=True)\n",
    "    return data\n",
    "    \n",
    "data = flatten_data(data)\n",
    "data"
   ]
  },
  {
   "cell_type": "markdown",
   "metadata": {},
   "source": [
    "## Removing weird values\n",
    "After flattening, we now need to look at any wacky data."
   ]
  },
  {
   "cell_type": "code",
   "execution_count": 11,
   "metadata": {},
   "outputs": [
    {
     "data": {
      "text/plain": [
       "array(['Action', 'Adventure', 'Indie', 'RPG', 'Casual', 'Strategy',\n",
       "       'Free to Play', 'Massively Multiplayer', 'Simulation',\n",
       "       'Animation & Modeling', 'Design & Illustration',\n",
       "       'Video Production', '\\n\\nUnder £7\\n\\n\\nUnder £4\\n\\n',\n",
       "       'Photo Editing', 'Utilities', 'Early Access'], dtype=object)"
      ]
     },
     "execution_count": 11,
     "metadata": {},
     "output_type": "execute_result"
    }
   ],
   "source": [
    "# From this, you can see that '\\n\\nUnder £7\\n\\n\\nUnder £4\\n\\n' is clearly an anomaly so we remove it.\n",
    "data[\"Game_Genres\"].unique()"
   ]
  },
  {
   "cell_type": "code",
   "execution_count": 15,
   "metadata": {},
   "outputs": [
    {
     "data": {
      "text/plain": [
       "array(['Action', 'Adventure', 'Indie', 'RPG', 'Casual', 'Strategy',\n",
       "       'Free to Play', 'Massively Multiplayer', 'Simulation',\n",
       "       'Animation & Modeling', 'Design & Illustration',\n",
       "       'Video Production', 'Photo Editing', 'Utilities', 'Early Access'],\n",
       "      dtype=object)"
      ]
     },
     "execution_count": 15,
     "metadata": {},
     "output_type": "execute_result"
    }
   ],
   "source": [
    "data = data.drop(data[data[\"Game_Genres\"] == \"\\n\\nUnder £7\\n\\n\\nUnder £4\\n\\n\"].index)\n",
    "data[\"Game_Genres\"].unique()"
   ]
  },
  {
   "cell_type": "markdown",
   "metadata": {},
   "source": [
    "The data is now clean for our purposes"
   ]
  }
 ],
 "metadata": {
  "kernelspec": {
   "display_name": "venv",
   "language": "python",
   "name": "python3"
  },
  "language_info": {
   "codemirror_mode": {
    "name": "ipython",
    "version": 3
   },
   "file_extension": ".py",
   "mimetype": "text/x-python",
   "name": "python",
   "nbconvert_exporter": "python",
   "pygments_lexer": "ipython3",
   "version": "3.11.3"
  }
 },
 "nbformat": 4,
 "nbformat_minor": 2
}
